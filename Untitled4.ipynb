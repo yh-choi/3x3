{
 "cells": [
  {
   "cell_type": "code",
   "execution_count": 1,
   "metadata": {},
   "outputs": [],
   "source": [
    "import numpy as np\n",
    "import cv2 as cv\n",
    "from matplotlib import pyplot as plt\n",
    "image=cv.imread('8.jpg')\n",
    "#kernel =np.array([[-1,-1,-1],[-1,8,-1],[-1,-1,-1]])\n",
    "kernel = np.ones((5,5), np.float32)/25    \n",
    "def convolve(image,kernel,pad,stride):\n",
    "    if stride<=0:\n",
    "        stride=1\n",
    "    (image_height, image_width)=image.shape[:2]\n",
    "    (kernel_height, kernel_width)=kernel.shape[:2]\n",
    "        \n",
    "    output_height=(image_height+2*pad-kernel_height)/stride+1\n",
    "    output_width=(image_width+2*pad-kernel_width)/stride+1\n",
    "    print(pad)\n",
    "    image = cv.copyMakeBorder(image, pad, pad, pad, pad,cv.BORDER_REPLICATE)\n",
    "    output = np.zeros((output_height, output_width,3), dtype=\"float32\")\n",
    "    print(kernel_width)\n",
    "    if pad>=2:\n",
    "        \n",
    "        for y in np.arange(pad, image_height + pad, stride):        \n",
    "            for x in np.arange(pad, image_width + pad, stride):            \n",
    "                roi0 = image[y - (kernel_height-1)/2:y + (kernel_height-1)/2 + 1, x - (kernel_width-1)/2:x + (kernel_width-1)/2 + 1,0]               \n",
    "                roi1 = image[y - (kernel_height-1)/2:y + (kernel_height-1)/2 + 1, x - (kernel_width-1)/2:x + (kernel_width-1)/2 + 1,1]\n",
    "                roi2 = image[y - (kernel_height-1)/2:y + (kernel_height-1)/2 + 1, x - (kernel_width-1)/2:x + (kernel_width-1)/2 + 1,2]\n",
    "                k0 = (roi0 * kernel).sum()\n",
    "                k1 = (roi1 * kernel).sum()\n",
    "                k2 = (roi2 * kernel).sum()\n",
    "               \n",
    "                output[(y - pad)/stride, (x - pad)/stride,0] = k0\n",
    "                output[(y - pad)/stride, (x - pad)/stride,1] = k1\n",
    "                output[(y - pad)/stride, (x - pad)/stride,2] = k2\n",
    "                output=output.astype(\"uint8\")\n",
    "                \n",
    "    if pad==1:\n",
    "        number=4\n",
    "        for y in np.arange(pad, image_height-2 + pad, stride):        \n",
    "            for x in np.arange(pad, image_width-2 + pad, stride):            \n",
    "                roi0 = image[y - pad:y + number, x - pad:x + number,0]               \n",
    "                roi1 = image[y - pad:y + number, x - pad:x + number,1]\n",
    "                roi2 = image[y - pad:y + number, x - pad:x + number,2]\n",
    "                k0 = (roi0 * kernel).sum()                \n",
    "                k1 = (roi1 * kernel).sum()\n",
    "                k2 = (roi2 * kernel).sum()\n",
    "               \n",
    "                output[(y - pad)/stride, (x - pad)/stride,0] = k0\n",
    "                output[(y - pad)/stride, (x - pad)/stride,1] = k1\n",
    "                output[(y - pad)/stride, (x - pad)/stride,2] = k2\n",
    "                output=output.astype(\"uint8\")\n",
    "    elif pad==0:\n",
    "        number=5\n",
    "        \n",
    "        for y in np.arange(pad, image_height-4 + pad, stride):        \n",
    "            for x in np.arange(pad, image_width-4 + pad, stride):            \n",
    "                roi0 = image[y - pad:y + number, x - pad:x + number,0]                \n",
    "                roi1 = image[y - pad:y + number, x - pad:x + number,1]\n",
    "                roi2 = image[y - pad:y + number, x - pad:x + number,2]\n",
    "                k0 = (roi0 * kernel).sum()               \n",
    "                k1 = (roi1 * kernel).sum()\n",
    "                k2 = (roi2 * kernel).sum()\n",
    "               \n",
    "                output[(y - pad)/stride, (x - pad)/stride,0] = k0\n",
    "                output[(y - pad)/stride, (x - pad)/stride,1] = k1\n",
    "                output[(y - pad)/stride, (x - pad)/stride,2] = k2\n",
    "                output=output.astype(\"uint8\")\n",
    "    \n",
    "    return output\n",
    "        \n"
   ]
  },
  {
   "cell_type": "code",
   "execution_count": 2,
   "metadata": {},
   "outputs": [
    {
     "ename": "AttributeError",
     "evalue": "'NoneType' object has no attribute 'shape'",
     "output_type": "error",
     "traceback": [
      "\u001b[0;31m---------------------------------------------------------------------------\u001b[0m",
      "\u001b[0;31mAttributeError\u001b[0m                            Traceback (most recent call last)",
      "\u001b[0;32m<ipython-input-2-d77197995daa>\u001b[0m in \u001b[0;36m<module>\u001b[0;34m()\u001b[0m\n\u001b[0;32m----> 1\u001b[0;31m \u001b[0mdst\u001b[0m\u001b[0;34m=\u001b[0m\u001b[0mconvolve\u001b[0m\u001b[0;34m(\u001b[0m\u001b[0mimage\u001b[0m\u001b[0;34m,\u001b[0m\u001b[0mkernel\u001b[0m\u001b[0;34m,\u001b[0m\u001b[0;36m0\u001b[0m\u001b[0;34m,\u001b[0m\u001b[0;36m5\u001b[0m\u001b[0;34m)\u001b[0m\u001b[0;34m\u001b[0m\u001b[0m\n\u001b[0m\u001b[1;32m      2\u001b[0m \u001b[0;31m#print(dst)\u001b[0m\u001b[0;34m\u001b[0m\u001b[0;34m\u001b[0m\u001b[0m\n\u001b[1;32m      3\u001b[0m \u001b[0;31m#cv.imshow('image',dst)\u001b[0m\u001b[0;34m\u001b[0m\u001b[0;34m\u001b[0m\u001b[0m\n\u001b[1;32m      4\u001b[0m \u001b[0;31m#cv.waitKey(0)\u001b[0m\u001b[0;34m\u001b[0m\u001b[0;34m\u001b[0m\u001b[0m\n\u001b[1;32m      5\u001b[0m \u001b[0mplt\u001b[0m\u001b[0;34m.\u001b[0m\u001b[0msubplot\u001b[0m\u001b[0;34m(\u001b[0m\u001b[0;36m121\u001b[0m\u001b[0;34m)\u001b[0m\u001b[0;34m,\u001b[0m\u001b[0mplt\u001b[0m\u001b[0;34m.\u001b[0m\u001b[0mimshow\u001b[0m\u001b[0;34m(\u001b[0m\u001b[0mcv\u001b[0m\u001b[0;34m.\u001b[0m\u001b[0mcvtColor\u001b[0m\u001b[0;34m(\u001b[0m\u001b[0mimage\u001b[0m\u001b[0;34m,\u001b[0m\u001b[0mcv\u001b[0m\u001b[0;34m.\u001b[0m\u001b[0mCOLOR_BGR2RGB\u001b[0m\u001b[0;34m)\u001b[0m\u001b[0;34m)\u001b[0m\u001b[0;34m,\u001b[0m\u001b[0mplt\u001b[0m\u001b[0;34m.\u001b[0m\u001b[0mtitle\u001b[0m\u001b[0;34m(\u001b[0m\u001b[0;34m'Original'\u001b[0m\u001b[0;34m)\u001b[0m\u001b[0;34m\u001b[0m\u001b[0m\n",
      "\u001b[0;32m<ipython-input-1-b52ed7033543>\u001b[0m in \u001b[0;36mconvolve\u001b[0;34m(image, kernel, pad, stride)\u001b[0m\n\u001b[1;32m      8\u001b[0m     \u001b[0;32mif\u001b[0m \u001b[0mstride\u001b[0m\u001b[0;34m<=\u001b[0m\u001b[0;36m0\u001b[0m\u001b[0;34m:\u001b[0m\u001b[0;34m\u001b[0m\u001b[0m\n\u001b[1;32m      9\u001b[0m         \u001b[0mstride\u001b[0m\u001b[0;34m=\u001b[0m\u001b[0;36m1\u001b[0m\u001b[0;34m\u001b[0m\u001b[0m\n\u001b[0;32m---> 10\u001b[0;31m     \u001b[0;34m(\u001b[0m\u001b[0mimage_height\u001b[0m\u001b[0;34m,\u001b[0m \u001b[0mimage_width\u001b[0m\u001b[0;34m)\u001b[0m\u001b[0;34m=\u001b[0m\u001b[0mimage\u001b[0m\u001b[0;34m.\u001b[0m\u001b[0mshape\u001b[0m\u001b[0;34m[\u001b[0m\u001b[0;34m:\u001b[0m\u001b[0;36m2\u001b[0m\u001b[0;34m]\u001b[0m\u001b[0;34m\u001b[0m\u001b[0m\n\u001b[0m\u001b[1;32m     11\u001b[0m     \u001b[0;34m(\u001b[0m\u001b[0mkernel_height\u001b[0m\u001b[0;34m,\u001b[0m \u001b[0mkernel_width\u001b[0m\u001b[0;34m)\u001b[0m\u001b[0;34m=\u001b[0m\u001b[0mkernel\u001b[0m\u001b[0;34m.\u001b[0m\u001b[0mshape\u001b[0m\u001b[0;34m[\u001b[0m\u001b[0;34m:\u001b[0m\u001b[0;36m2\u001b[0m\u001b[0;34m]\u001b[0m\u001b[0;34m\u001b[0m\u001b[0m\n\u001b[1;32m     12\u001b[0m \u001b[0;34m\u001b[0m\u001b[0m\n",
      "\u001b[0;31mAttributeError\u001b[0m: 'NoneType' object has no attribute 'shape'"
     ]
    }
   ],
   "source": [
    "dst=convolve(image,kernel,0,5)\n",
    "#print(dst)\n",
    "#cv.imshow('image',dst)\n",
    "#cv.waitKey(0)\n",
    "plt.subplot(121),plt.imshow(cv.cvtColor(image,cv.COLOR_BGR2RGB)),plt.title('Original')\n",
    "plt.xticks([]), plt.yticks([])\n",
    "plt.subplot(122),plt.imshow(cv.cvtColor(dst,cv.COLOR_BGR2RGB)),plt.title('Averaging')\n",
    "plt.xticks([]), plt.yticks([])\n",
    "\n",
    "plt.show()"
   ]
  },
  {
   "cell_type": "code",
   "execution_count": 3,
   "metadata": {},
   "outputs": [
    {
     "ename": "NameError",
     "evalue": "name 'dst' is not defined",
     "output_type": "error",
     "traceback": [
      "\u001b[0;31m---------------------------------------------------------------------------\u001b[0m",
      "\u001b[0;31mNameError\u001b[0m                                 Traceback (most recent call last)",
      "\u001b[0;32m<ipython-input-3-c60439c678fc>\u001b[0m in \u001b[0;36m<module>\u001b[0;34m()\u001b[0m\n\u001b[0;32m----> 1\u001b[0;31m \u001b[0mcv\u001b[0m\u001b[0;34m.\u001b[0m\u001b[0mimshow\u001b[0m\u001b[0;34m(\u001b[0m\u001b[0;34m'image'\u001b[0m\u001b[0;34m,\u001b[0m\u001b[0mdst\u001b[0m\u001b[0;34m)\u001b[0m\u001b[0;34m\u001b[0m\u001b[0m\n\u001b[0m\u001b[1;32m      2\u001b[0m \u001b[0mcv\u001b[0m\u001b[0;34m.\u001b[0m\u001b[0mwaitKey\u001b[0m\u001b[0;34m(\u001b[0m\u001b[0;36m0\u001b[0m\u001b[0;34m)\u001b[0m\u001b[0;34m\u001b[0m\u001b[0m\n",
      "\u001b[0;31mNameError\u001b[0m: name 'dst' is not defined"
     ]
    }
   ],
   "source": [
    "cv.imshow('image',dst)\n",
    "cv.waitKey(0)"
   ]
  },
  {
   "cell_type": "code",
   "execution_count": null,
   "metadata": {},
   "outputs": [],
   "source": []
  }
 ],
 "metadata": {
  "kernelspec": {
   "display_name": "Python 2",
   "language": "python",
   "name": "python2"
  },
  "language_info": {
   "codemirror_mode": {
    "name": "ipython",
    "version": 2
   },
   "file_extension": ".py",
   "mimetype": "text/x-python",
   "name": "python",
   "nbconvert_exporter": "python",
   "pygments_lexer": "ipython2",
   "version": "2.7.12"
  }
 },
 "nbformat": 4,
 "nbformat_minor": 2
}
